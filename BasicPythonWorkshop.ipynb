{
  "cells": [
    {
      "cell_type": "markdown",
      "metadata": {},
      "source": [
        "### **This course provides a comprehensive guide to setting up Python virtual environments with Miniconda, working with data structures, manipulating Pandas DataFrames, applying algorithmic principles, utilizing regular expressions, and efficiently handling file operations.**"
      ]
    },
    {
      "cell_type": "markdown",
      "metadata": {},
      "source": [
        "# Installing and Using Miniconda\n",
        "\n",
        "## Table of Contents\n",
        "1. [Introduction to Miniconda](#1-introduction-to-miniconda)\n",
        "2. [Installing Miniconda](#2-installing-miniconda)\n",
        "3. [Creating and Managing Conda Environments](#3-creating-and-managing-conda-environments)\n",
        "4. [Installing and Managing Packages](#4-installing-and-managing-packages)\n",
        "5. [Working with Jupyter Notebook in a Conda Environment](#5-working-with-jupyter-notebook-in-a-conda-environment)\n",
        "6. [Updating and Uninstalling Miniconda](#6-updating-and-uninstalling-miniconda)\n",
        "7. [Exercises](#7-exercises)"
      ]
    },
    {
      "cell_type": "markdown",
      "metadata": {},
      "source": [
        "## 1. Introduction to Miniconda\n",
        "Miniconda is a minimalistic distribution of Anaconda that includes only `conda`, Python, and essential packages. It allows users to create isolated environments and manage dependencies efficiently."
      ]
    },
    {
      "cell_type": "markdown",
      "metadata": {},
      "source": [
        "## 2. Installing Miniconda\n",
        "### **Windows Installation**\n",
        "1. Download Miniconda from [Miniconda Official Website](https://docs.conda.io/en/latest/miniconda.html)\n",
        "2. Run the installer and follow on-screen instructions.\n",
        "3. Select \"Add Miniconda to PATH\" (optional but recommended).\n",
        "4. Open the command prompt (`cmd`) and verify installation:\n",
        "```bash\n",
        "conda --version\n",
        "```\n",
        "\n",
        "### **Linux/Mac Installation**\n",
        "1. Download the latest Miniconda installer:\n",
        "```bash\n",
        "wget https://repo.anaconda.com/miniconda/Miniconda3-latest-Linux-x86_64.sh\n",
        "```\n",
        "2. Run the installer:\n",
        "```bash\n",
        "bash Miniconda3-latest-Linux-x86_64.sh\n",
        "```\n",
        "3. Follow the instructions, restart the shell, and verify:\n",
        "```bash\n",
        "conda --version\n",
        "```"
      ]
    },
    {
      "cell_type": "markdown",
      "metadata": {},
      "source": [
        "## 3. Creating and Managing Conda Environments\n",
        "### **Create a new environment**\n",
        "```bash\n",
        "conda create --name my_env python=3.9\n",
        "```\n",
        "### **Activate the environment**\n",
        "```bash\n",
        "conda activate my_env\n",
        "```\n",
        "### **Deactivate the environment**\n",
        "```bash\n",
        "conda deactivate\n",
        "```\n",
        "### **List all environments**\n",
        "```bash\n",
        "conda env list\n",
        "```\n",
        "### **Remove an environment**\n",
        "```bash\n",
        "conda remove --name my_env --all\n",
        "```"
      ]
    },
    {
      "cell_type": "markdown",
      "metadata": {},
      "source": [
        "## 4. Installing and Managing Packages\n",
        "### **Install a package**\n",
        "```bash\n",
        "conda install numpy pandas\n",
        "```\n",
        "### **Uninstall a package**\n",
        "```bash\n",
        "conda remove numpy\n",
        "```\n",
        "### **Check installed packages**\n",
        "```bash\n",
        "conda list\n",
        "```\n",
        "### **Update a package**\n",
        "```bash\n",
        "conda update pandas\n",
        "```\n",
        "### **Install packages from specific channels**\n",
        "```bash\n",
        "conda install -c conda-forge matplotlib\n",
        "```"
      ]
    },
    {
      "cell_type": "markdown",
      "metadata": {},
      "source": [
        "## 5. Working with Jupyter Notebook in a Conda Environment\n",
        "### **Install Jupyter Notebook in a Conda Environment**\n",
        "```bash\n",
        "conda install -c conda-forge jupyterlab\n",
        "```\n",
        "### **Run Jupyter Notebook**\n",
        "```bash\n",
        "jupyter notebook\n",
        "```\n",
        "### **Add the Environment to Jupyter Kernel**\n",
        "```bash\n",
        "conda install ipykernel\n",
        "python -m ipykernel install --user --name=my_env --display-name \"Python (my_env)\"\n",
        "```"
      ]
    },
    {
      "cell_type": "markdown",
      "metadata": {},
      "source": [
        "## 6. Updating and Uninstalling Miniconda\n",
        "### **Update Conda**\n",
        "```bash\n",
        "conda update conda\n",
        "```\n",
        "### **Uninstall Miniconda (Linux/Mac)**\n",
        "```bash\n",
        "rm -rf ~/miniconda3\n",
        "```\n",
        "### **Uninstall Miniconda (Windows)**\n",
        "1. Open \"Add or Remove Programs\" and uninstall Miniconda.\n",
        "2. Delete the `C:\\Users\\YourUsername\\miniconda3` folder manually."
      ]
    },
    {
      "cell_type": "markdown",
      "metadata": {
        "id": "AFA7lPpsUuQW"
      },
      "source": [
        "## 7. \n",
        "### **1: Install and Verify Miniconda**\n",
        "- Install Miniconda on your system and verify the installation with `conda --version`.\n",
        "\n",
        "### **2: Create and Manage Environments**\n",
        "- Create an environment named `data_env` with Python 3.9.\n",
        "- Install `numpy` and `pandas` in this environment.\n",
        "- Deactivate and then remove the environment.\n",
        "\n",
        "### **3: Work with Jupyter in Conda**\n",
        "- Create an environment with Jupyter installed.\n",
        "- Open Jupyter Notebook and verify that your environment is listed.\n",
        "\n",
        "### **4: Install and Update Packages**\n",
        "- Install `scipy` and `matplotlib` in a new environment.\n",
        "- Update `matplotlib` to the latest version.\n",
        "- List all installed packages.\n"
      ]
    },
    {
      "cell_type": "markdown",
      "metadata": {},
      "source": []
    },
    {
      "cell_type": "markdown",
      "metadata": {},
      "source": [
        "# Python Data Structures Course\n",
        "\n",
        "### Python Data Structures Course\n",
        "\n",
        "## Table of Contents\n",
        "1. [Python Lists](#1-python-lists)\n",
        "2. [Character Strings](#2-character-strings)\n",
        "3. [Lists of Constants (Tuples)](#3-lists-of-constants-tuples)\n",
        "4. [Python Dictionaries](#4-python-dictionaries)\n",
        "5. [Sets](#5-sets)\n",
        "6. [Arrays (2D and n-dimensional)](#6-arrays-with-numpy)\n",
        "7. [DataFrames with Pandas](#7-dataframes-with-pandas)\n",
        "8. [Functions](#8-functions)\n",
        "9. [Object-Oriented Programming (OOP)](#9-object-oriented-programming)\n",
        "10. [Lambda Functions](#10-lambda-functions)\n",
        "11. [Filter & Reduce](#11-filter-and-reduce)\n",
        "12. [Listing and Deleting Existing Objects](#12-listing-and-deleting-existing-objects)\n",
        "13. [Exercises](#13-exercises)"
      ]
    },
    {
      "cell_type": "markdown",
      "metadata": {
        "id": "svwfvK5cUzfl"
      },
      "source": [
        "## 1. Python Lists\n",
        "Lists are one of the most commonly used data structures in Python. They are ordered, mutable, and allow duplicate values."
      ]
    },
    {
      "cell_type": "code",
      "execution_count": 100,
      "metadata": {
        "colab": {
          "base_uri": "https://localhost:8080/"
        },
        "id": "gM0gypoRUz5l",
        "outputId": "e4d548b2-c575-4ca6-ff9e-8472340a6c05"
      },
      "outputs": [
        {
          "name": "stdout",
          "output_type": "stream",
          "text": [
            "List: [1, 2, 3, 4, 5]\n",
            "After appending 6: [1, 2, 3, 4, 5, 6]\n",
            "After removing 2: [1, 3, 4, 5, 6]\n"
          ]
        }
      ],
      "source": [
        "my_list = [1, 2, 3, 4, 5]\n",
        "print(\"List:\", my_list)\n",
        "my_list.append(6)\n",
        "print(\"After appending 6:\", my_list)\n",
        "my_list.remove(2)\n",
        "print(\"After removing 2:\", my_list)"
      ]
    },
    {
      "cell_type": "markdown",
      "metadata": {
        "id": "eHqmEq42U62k"
      },
      "source": [
        "## 2. Character Strings\n",
        "Strings in Python are immutable sequences of characters. They support slicing and many built-in methods."
      ]
    },
    {
      "cell_type": "code",
      "execution_count": 101,
      "metadata": {
        "colab": {
          "base_uri": "https://localhost:8080/"
        },
        "id": "OqaBKE7WU70d",
        "outputId": "eb45b825-b0c1-425e-e1fa-2862357fa495"
      },
      "outputs": [
        {
          "name": "stdout",
          "output_type": "stream",
          "text": [
            "String: Hello, Python!\n",
            "Length: 14\n",
            "Uppercase: HELLO, PYTHON!\n",
            "Substring: Python\n"
          ]
        }
      ],
      "source": [
        "my_string = \"Hello, Python!\"\n",
        "print(\"String:\", my_string)\n",
        "print(\"Length:\", len(my_string))\n",
        "print(\"Uppercase:\", my_string.upper())\n",
        "print(\"Substring:\", my_string[7:13])"
      ]
    },
    {
      "cell_type": "markdown",
      "metadata": {
        "id": "TLfJyg9AU_1M"
      },
      "source": [
        "## 3. Lists of Constants (Tuples)\n",
        "Tuples are immutable sequences, meaning their elements cannot be changed after creation. They are often used to store fixed collections of data."
      ]
    },
    {
      "cell_type": "code",
      "execution_count": 102,
      "metadata": {
        "colab": {
          "base_uri": "https://localhost:8080/"
        },
        "id": "64O3HtiRVCHY",
        "outputId": "90c4f18f-06eb-48d5-93c4-3aec628d43aa"
      },
      "outputs": [
        {
          "name": "stdout",
          "output_type": "stream",
          "text": [
            "Tuple: (10, 20, 30, 40, 50)\n",
            "First element: 10\n"
          ]
        }
      ],
      "source": [
        "my_tuple = (10, 20, 30, 40, 50)\n",
        "print(\"Tuple:\", my_tuple)\n",
        "print(\"First element:\", my_tuple[0])"
      ]
    },
    {
      "cell_type": "markdown",
      "metadata": {
        "id": "UrmD2dP5VEpF"
      },
      "source": [
        "## 4. Python Dictionaries\n",
        "Dictionaries store key-value pairs, providing a fast and flexible way to store and retrieve data."
      ]
    },
    {
      "cell_type": "code",
      "execution_count": 103,
      "metadata": {
        "colab": {
          "base_uri": "https://localhost:8080/"
        },
        "id": "FsOC3fdBVFb0",
        "outputId": "0cbfca55-8912-4c50-e7cb-4e8d9a196595"
      },
      "outputs": [
        {
          "name": "stdout",
          "output_type": "stream",
          "text": [
            "Dictionary: {'name': 'Alice', 'age': 25, 'city': 'Paris'}\n",
            "Updated Dictionary: {'name': 'Alice', 'age': 26, 'city': 'Paris'}\n",
            "Keys: dict_keys(['name', 'age', 'city'])\n",
            "Values: dict_values(['Alice', 26, 'Paris'])\n"
          ]
        }
      ],
      "source": [
        "my_dict = {\"name\": \"Alice\", \"age\": 25, \"city\": \"Paris\"}\n",
        "print(\"Dictionary:\", my_dict)\n",
        "my_dict[\"age\"] = 26  # Modifying a value\n",
        "print(\"Updated Dictionary:\", my_dict)\n",
        "print(\"Keys:\", my_dict.keys())\n",
        "print(\"Values:\", my_dict.values())"
      ]
    },
    {
      "cell_type": "markdown",
      "metadata": {
        "id": "C_DOT6dTVL3T"
      },
      "source": [
        "## 5. Sets\n",
        "Sets are unordered collections of unique elements. They support operations like union, intersection, and difference."
      ]
    },
    {
      "cell_type": "code",
      "execution_count": 104,
      "metadata": {
        "colab": {
          "base_uri": "https://localhost:8080/"
        },
        "id": "YEoGczOuVNAN",
        "outputId": "a1903707-a8d3-420a-ce04-e0b023857413"
      },
      "outputs": [
        {
          "name": "stdout",
          "output_type": "stream",
          "text": [
            "Set after adding 6: {1, 2, 3, 4, 5, 6}\n",
            "Set after removing 3: {1, 2, 4, 5, 6}\n",
            "Union: {1, 2, 4, 5, 6, 7, 8}\n",
            "Intersection: {4, 5}\n"
          ]
        }
      ],
      "source": [
        "my_set = {1, 2, 3, 4, 5}\n",
        "my_set.add(6)\n",
        "print(\"Set after adding 6:\", my_set)\n",
        "my_set.remove(3)\n",
        "print(\"Set after removing 3:\", my_set)\n",
        "print(\"Union:\", my_set | {5, 6, 7, 8})\n",
        "print(\"Intersection:\", my_set & {3, 4, 5})"
      ]
    },
    {
      "cell_type": "markdown",
      "metadata": {
        "id": "n7zUAzQkVPS7"
      },
      "source": [
        "## 6. Arrays with NumPy\n",
        "NumPy arrays allow fast mathematical operations and support multi-dimensional structures."
      ]
    },
    {
      "cell_type": "code",
      "execution_count": 105,
      "metadata": {
        "colab": {
          "base_uri": "https://localhost:8080/"
        },
        "id": "CyyhDjgWVR0c",
        "outputId": "cbf83a19-d3b2-445d-8e24-e895abcb20ab"
      },
      "outputs": [
        {
          "name": "stdout",
          "output_type": "stream",
          "text": [
            "2D Array:\n",
            " [[1 2 3]\n",
            " [4 5 6]]\n",
            "3D Array:\n",
            " [[[0.95645728 0.73809443 0.91178107 0.09655325]\n",
            "  [0.47323105 0.33224491 0.93292007 0.55061886]\n",
            "  [0.59379559 0.32977716 0.07503536 0.68739107]]\n",
            "\n",
            " [[0.52200763 0.74939341 0.74618466 0.73849096]\n",
            "  [0.3340667  0.33005171 0.31508431 0.18747933]\n",
            "  [0.65134207 0.30787661 0.37444515 0.13117113]]]\n"
          ]
        }
      ],
      "source": [
        "import numpy as np\n",
        "array_2d = np.array([[1, 2, 3], [4, 5, 6]])\n",
        "print(\"2D Array:\\n\", array_2d)\n",
        "array_nd = np.random.rand(2, 3, 4)  # 3D array example\n",
        "print(\"3D Array:\\n\", array_nd)"
      ]
    },
    {
      "cell_type": "markdown",
      "metadata": {
        "id": "KjVdYCohVWO0"
      },
      "source": [
        "## 7. DataFrames with Pandas\n",
        "Pandas DataFrames provide a powerful way to handle tabular data."
      ]
    },
    {
      "cell_type": "code",
      "execution_count": 106,
      "metadata": {
        "colab": {
          "base_uri": "https://localhost:8080/"
        },
        "id": "uE0EmslFVXAj",
        "outputId": "b9b12152-e280-41bb-c1fb-3501542459d6"
      },
      "outputs": [
        {
          "name": "stdout",
          "output_type": "stream",
          "text": [
            "DataFrame:\n",
            "       Name  Age      City\n",
            "0    Alice   25     Paris\n",
            "1      Bob   30    Berlin\n",
            "2  Charlie   35  New York\n"
          ]
        }
      ],
      "source": [
        "import pandas as pd\n",
        "data = {\"Name\": [\"Alice\", \"Bob\", \"Charlie\"], \"Age\": [25, 30, 35], \"City\": [\"Paris\", \"Berlin\", \"New York\"]}\n",
        "df = pd.DataFrame(data)\n",
        "print(\"DataFrame:\\n\", df)"
      ]
    },
    {
      "cell_type": "markdown",
      "metadata": {
        "id": "L3PQ300QVcNb"
      },
      "source": [
        "## 8. Functions\n",
        "Functions allow code reusability and modularization."
      ]
    },
    {
      "cell_type": "code",
      "execution_count": 107,
      "metadata": {
        "colab": {
          "base_uri": "https://localhost:8080/"
        },
        "id": "Jx4T40p-VclU",
        "outputId": "0c9a5585-a3b4-4e38-8ea0-4b16f97ac3a2"
      },
      "outputs": [
        {
          "name": "stdout",
          "output_type": "stream",
          "text": [
            "Hello, Alice!\n"
          ]
        }
      ],
      "source": [
        "def greet(name):\n",
        "    return f\"Hello, {name}!\"\n",
        "\n",
        "print(greet(\"Alice\"))"
      ]
    },
    {
      "cell_type": "markdown",
      "metadata": {
        "id": "cxHfre12Vii6"
      },
      "source": [
        "## 9. Object-Oriented Programming (OOP)\n",
        "Python supports OOP concepts such as classes and objects."
      ]
    },
    {
      "cell_type": "code",
      "execution_count": 108,
      "metadata": {
        "colab": {
          "base_uri": "https://localhost:8080/"
        },
        "id": "pMf8186jVkHS",
        "outputId": "288d218e-0ddc-4007-e35d-b64504b20d3f"
      },
      "outputs": [
        {
          "name": "stdout",
          "output_type": "stream",
          "text": [
            "Hi, I'm Alice and I'm 25 years old.\n"
          ]
        }
      ],
      "source": [
        "class Person:\n",
        "    def __init__(self, name, age):\n",
        "        self.name = name\n",
        "        self.age = age\n",
        "\n",
        "    def introduce(self):\n",
        "        return f\"Hi, I'm {self.name} and I'm {self.age} years old.\"\n",
        "\n",
        "person1 = Person(\"Alice\", 25)\n",
        "print(person1.introduce())"
      ]
    },
    {
      "cell_type": "markdown",
      "metadata": {
        "id": "sdO-ovbOVow6"
      },
      "source": [
        "## 10. Lambda Functions\n",
        "Lambda functions are anonymous, inline functions."
      ]
    },
    {
      "cell_type": "code",
      "execution_count": 109,
      "metadata": {
        "colab": {
          "base_uri": "https://localhost:8080/"
        },
        "id": "M1iAyM6GVrLa",
        "outputId": "5c0a5968-1af5-4536-cf04-e4c1eef145ce"
      },
      "outputs": [
        {
          "name": "stdout",
          "output_type": "stream",
          "text": [
            "Square of 5: 25\n"
          ]
        }
      ],
      "source": [
        "square = lambda x: x ** 2\n",
        "print(\"Square of 5:\", square(5))"
      ]
    },
    {
      "cell_type": "markdown",
      "metadata": {
        "id": "tGVarvmxVs1q"
      },
      "source": [
        "## 11. Filter and Reduce\n",
        "`filter()` and `reduce()` are used for functional-style processing of collections."
      ]
    },
    {
      "cell_type": "code",
      "execution_count": 110,
      "metadata": {
        "colab": {
          "base_uri": "https://localhost:8080/"
        },
        "id": "nM710A3zVvFV",
        "outputId": "0e57b7d5-e53d-4b90-d164-111cc7cef1e4"
      },
      "outputs": [
        {
          "name": "stdout",
          "output_type": "stream",
          "text": [
            "Even numbers: [2, 4]\n",
            "Sum of all numbers: 15\n"
          ]
        }
      ],
      "source": [
        "from functools import reduce\n",
        "\n",
        "numbers = [1, 2, 3, 4, 5]\n",
        "even_numbers = list(filter(lambda x: x % 2 == 0, numbers))\n",
        "print(\"Even numbers:\", even_numbers)\n",
        "\n",
        "sum_numbers = reduce(lambda x, y: x + y, numbers)\n",
        "print(\"Sum of all numbers:\", sum_numbers)"
      ]
    },
    {
      "cell_type": "markdown",
      "metadata": {
        "id": "dKXfghZpVyFz"
      },
      "source": [
        "## 12. Listing and Deleting Existing Objects\n",
        "We can list all objects in memory using `dir()` and delete specific objects using `del`."
      ]
    },
    {
      "cell_type": "code",
      "execution_count": 111,
      "metadata": {
        "colab": {
          "base_uri": "https://localhost:8080/"
        },
        "id": "5au__msBVydZ",
        "outputId": "9236a4a0-aed4-43c0-d9e9-9b8d4b565922"
      },
      "outputs": [
        {
          "name": "stdout",
          "output_type": "stream",
          "text": [
            "Existing Objects: ['In', 'Out', 'Person', '_', '__', '___', '__builtin__', '__builtins__', '__doc__', '__loader__', '__name__', '__package__', '__spec__', '_dh', '_i', '_i1', '_i10', '_i100', '_i101', '_i102', '_i103', '_i104', '_i105', '_i106', '_i107', '_i108', '_i109', '_i11', '_i110', '_i111', '_i12', '_i13', '_i14', '_i15', '_i16', '_i17', '_i18', '_i19', '_i2', '_i20', '_i21', '_i22', '_i23', '_i24', '_i25', '_i26', '_i27', '_i28', '_i29', '_i3', '_i30', '_i31', '_i32', '_i33', '_i34', '_i35', '_i36', '_i37', '_i38', '_i39', '_i4', '_i40', '_i41', '_i42', '_i43', '_i44', '_i45', '_i46', '_i47', '_i48', '_i49', '_i5', '_i50', '_i51', '_i52', '_i53', '_i54', '_i55', '_i56', '_i57', '_i58', '_i59', '_i6', '_i60', '_i61', '_i62', '_i63', '_i64', '_i65', '_i66', '_i67', '_i68', '_i69', '_i7', '_i70', '_i71', '_i72', '_i73', '_i74', '_i75', '_i76', '_i77', '_i78', '_i79', '_i8', '_i80', '_i81', '_i82', '_i83', '_i84', '_i85', '_i86', '_i87', '_i88', '_i89', '_i9', '_i90', '_i91', '_i92', '_i93', '_i94', '_i95', '_i96', '_i97', '_i98', '_i99', '_ih', '_ii', '_iii', '_oh', 'activities', 'activity_selection', 'arr', 'array_2d', 'array_nd', 'bfs', 'binary_data', 'content', 'csv', 'data', 'deque', 'df', 'df1', 'df2', 'email', 'even_numbers', 'exit', 'fibonacci', 'file', 'file_name', 'get_ipython', 'graph', 'greet', 'img', 'json', 'line', 'match', 'merge', 'merge_sort', 'merged_df', 'my_dict', 'my_list', 'my_set', 'my_string', 'my_tuple', 'np', 'numbers', 'os', 'pattern', 'pd', 'person1', 'quick_sort', 'quit', 're', 'read_large_file', 'reduce', 'square', 'sum_numbers', 'text', 'url', 'urllib', 'writer']\n",
            "After deleting my_list: ['In', 'Out', 'Person', '_', '__', '___', '__builtin__', '__builtins__', '__doc__', '__loader__', '__name__', '__package__', '__spec__', '_dh', '_i', '_i1', '_i10', '_i100', '_i101', '_i102', '_i103', '_i104', '_i105', '_i106', '_i107', '_i108', '_i109', '_i11', '_i110', '_i111', '_i12', '_i13', '_i14', '_i15', '_i16', '_i17', '_i18', '_i19', '_i2', '_i20', '_i21', '_i22', '_i23', '_i24', '_i25', '_i26', '_i27', '_i28', '_i29', '_i3', '_i30', '_i31', '_i32', '_i33', '_i34', '_i35', '_i36', '_i37', '_i38', '_i39', '_i4', '_i40', '_i41', '_i42', '_i43', '_i44', '_i45', '_i46', '_i47', '_i48', '_i49', '_i5', '_i50', '_i51', '_i52', '_i53', '_i54', '_i55', '_i56', '_i57', '_i58', '_i59', '_i6', '_i60', '_i61', '_i62', '_i63', '_i64', '_i65', '_i66', '_i67', '_i68', '_i69', '_i7', '_i70', '_i71', '_i72', '_i73', '_i74', '_i75', '_i76', '_i77', '_i78', '_i79', '_i8', '_i80', '_i81', '_i82', '_i83', '_i84', '_i85', '_i86', '_i87', '_i88', '_i89', '_i9', '_i90', '_i91', '_i92', '_i93', '_i94', '_i95', '_i96', '_i97', '_i98', '_i99', '_ih', '_ii', '_iii', '_oh', 'activities', 'activity_selection', 'arr', 'array_2d', 'array_nd', 'bfs', 'binary_data', 'content', 'csv', 'data', 'deque', 'df', 'df1', 'df2', 'email', 'even_numbers', 'exit', 'fibonacci', 'file', 'file_name', 'get_ipython', 'graph', 'greet', 'img', 'json', 'line', 'match', 'merge', 'merge_sort', 'merged_df', 'my_dict', 'my_set', 'my_string', 'my_tuple', 'np', 'numbers', 'os', 'pattern', 'pd', 'person1', 'quick_sort', 'quit', 're', 'read_large_file', 'reduce', 'square', 'sum_numbers', 'text', 'url', 'urllib', 'writer']\n"
          ]
        }
      ],
      "source": [
        "print(\"Existing Objects:\", dir())\n",
        "del my_list\n",
        "print(\"After deleting my_list:\", dir())"
      ]
    },
    {
      "cell_type": "markdown",
      "metadata": {
        "id": "hAyygiycV3dk"
      },
      "source": [
        "## 13. Exercises\n",
        "### Exercise 6: Sets Operations\n",
        "- Create two sets of numbers and perform union and intersection.\n",
        "- Remove an element from a set and print the updated set."
      ]
    },
    {
      "cell_type": "code",
      "execution_count": 111,
      "metadata": {
        "id": "TNdTQ1WjV6V5"
      },
      "outputs": [],
      "source": []
    },
    {
      "cell_type": "markdown",
      "metadata": {
        "id": "FB8YEKZlV6uZ"
      },
      "source": [
        "### Exercise 7: Functions\n",
        "- Write a function that takes two numbers and returns their sum.\n",
        "- Modify the function to return both the sum and product of the numbers."
      ]
    },
    {
      "cell_type": "code",
      "execution_count": 111,
      "metadata": {
        "id": "8QdJpXuAV7y4"
      },
      "outputs": [],
      "source": []
    },
    {
      "cell_type": "markdown",
      "metadata": {
        "id": "OMCtwMhDV9lS"
      },
      "source": [
        "### Exercise 8: OOP\n",
        "- Create a `Car` class with `brand` and `speed` attributes.\n",
        "- Add a method that prints a statement about the car's speed."
      ]
    },
    {
      "cell_type": "code",
      "execution_count": 111,
      "metadata": {
        "id": "ECGMro0ZV-32"
      },
      "outputs": [],
      "source": []
    },
    {
      "cell_type": "markdown",
      "metadata": {
        "id": "Ydni8QXGWBTZ"
      },
      "source": [
        "### Exercise 9: Lambda Functions\n",
        "- Write a lambda function that multiplies two numbers.\n",
        "- Use `map()` to apply a lambda function to a list of numbers."
      ]
    },
    {
      "cell_type": "code",
      "execution_count": 111,
      "metadata": {
        "id": "56HsTVXRWCEp"
      },
      "outputs": [],
      "source": []
    },
    {
      "cell_type": "markdown",
      "metadata": {
        "id": "sgp4oddlWE25"
      },
      "source": [
        "### Exercise 10: Filter and Reduce\n",
        "- Use `filter()` to extract odd numbers from a list.\n",
        "- Use `reduce()` to compute the product of all elements in a list."
      ]
    },
    {
      "cell_type": "code",
      "execution_count": 111,
      "metadata": {
        "id": "5oOwvDIGWFpg"
      },
      "outputs": [],
      "source": []
    },
    {
      "cell_type": "markdown",
      "metadata": {
        "id": "GL762Et7WJuZ"
      },
      "source": [
        "# Advanced Pandas DataFrame Course\n",
        "\n",
        "## Table of Contents\n",
        "1. [Introduction to Pandas](#1-introduction-to-pandas)\n",
        "2. [Creating DataFrames](#2-creating-dataframes)\n",
        "3. [Indexing and Selecting Data](#3-indexing-and-selecting-data)\n",
        "4. [Data Cleaning and Handling Missing Values](#4-data-cleaning-and-handling-missing-values)\n",
        "5. [Data Transformation](#5-data-transformation)\n",
        "6. [Aggregation and Grouping](#6-aggregation-and-grouping)\n",
        "7. [Merging and Joining DataFrames](#7-merging-and-joining-dataframes)\n",
        "8. [Working with Time Series Data](#8-working-with-time-series-data)\n",
        "9. [Performance Optimization](#9-performance-optimization)\n",
        "10. [Exercises](#10-exercises)"
      ]
    },
    {
      "cell_type": "markdown",
      "metadata": {
        "id": "Tz7vG4bvWPCe"
      },
      "source": [
        "## 1. Introduction to Pandas\n",
        "Pandas is a powerful Python library for data manipulation and analysis. It provides DataFrame and Series structures that allow efficient handling of structured data."
      ]
    },
    {
      "cell_type": "code",
      "execution_count": 112,
      "metadata": {
        "colab": {
          "base_uri": "https://localhost:8080/"
        },
        "id": "s2BxlcqWWP-o",
        "outputId": "fcbeaacd-4239-4f7d-a1c8-3300ef1ea8fd"
      },
      "outputs": [
        {
          "name": "stdout",
          "output_type": "stream",
          "text": [
            "Pandas version: 2.2.2\n"
          ]
        }
      ],
      "source": [
        "import pandas as pd\n",
        "print(\"Pandas version:\", pd.__version__)"
      ]
    },
    {
      "cell_type": "markdown",
      "metadata": {
        "id": "AzCCJ8DfWW0x"
      },
      "source": [
        "## 2. Creating DataFrames\n",
        "A DataFrame is a 2D labeled data structure, similar to a spreadsheet."
      ]
    },
    {
      "cell_type": "code",
      "execution_count": 113,
      "metadata": {
        "colab": {
          "base_uri": "https://localhost:8080/"
        },
        "id": "sbHZ4ahGWWUK",
        "outputId": "7280ab75-e254-4054-9f15-1c41aa7992f9"
      },
      "outputs": [
        {
          "name": "stdout",
          "output_type": "stream",
          "text": [
            "      Name  Age      City\n",
            "0    Alice   25  New York\n",
            "1      Bob   30    London\n",
            "2  Charlie   35     Paris\n"
          ]
        }
      ],
      "source": [
        "data = {\n",
        "    \"Name\": [\"Alice\", \"Bob\", \"Charlie\"],\n",
        "    \"Age\": [25, 30, 35],\n",
        "    \"City\": [\"New York\", \"London\", \"Paris\"]\n",
        "}\n",
        "df = pd.DataFrame(data)\n",
        "print(df)"
      ]
    },
    {
      "cell_type": "markdown",
      "metadata": {
        "id": "u1CAuCyIWauI"
      },
      "source": [
        "## 3. Indexing and Selecting Data\n",
        "### Selecting Columns"
      ]
    },
    {
      "cell_type": "code",
      "execution_count": 114,
      "metadata": {
        "colab": {
          "base_uri": "https://localhost:8080/"
        },
        "id": "d0IcEHrkWbhZ",
        "outputId": "4cdb1f61-bd6a-4f94-b70f-096242b1ccfd"
      },
      "outputs": [
        {
          "name": "stdout",
          "output_type": "stream",
          "text": [
            "0      Alice\n",
            "1        Bob\n",
            "2    Charlie\n",
            "Name: Name, dtype: object\n"
          ]
        }
      ],
      "source": [
        "print(df[\"Name\"])"
      ]
    },
    {
      "cell_type": "markdown",
      "metadata": {
        "id": "zIyADqjkWdvw"
      },
      "source": [
        "### Selecting Rows"
      ]
    },
    {
      "cell_type": "code",
      "execution_count": 115,
      "metadata": {
        "colab": {
          "base_uri": "https://localhost:8080/"
        },
        "id": "vigvDL3qWgGp",
        "outputId": "37c47f5b-216a-41f5-a9a8-7d378dca6229"
      },
      "outputs": [
        {
          "name": "stdout",
          "output_type": "stream",
          "text": [
            "Name       Bob\n",
            "Age         30\n",
            "City    London\n",
            "Name: 1, dtype: object\n",
            "Name       Alice\n",
            "Age           25\n",
            "City    New York\n",
            "Name: 0, dtype: object\n"
          ]
        }
      ],
      "source": [
        "print(df.loc[1])\n",
        "print(df.iloc[0])"
      ]
    },
    {
      "cell_type": "markdown",
      "metadata": {
        "id": "7lux6-cpWit2"
      },
      "source": [
        "## 4. Data Cleaning and Handling Missing Values\n",
        "### Handling Missing Data"
      ]
    },
    {
      "cell_type": "code",
      "execution_count": 116,
      "metadata": {
        "colab": {
          "base_uri": "https://localhost:8080/"
        },
        "id": "z5mBdQmzWmMf",
        "outputId": "96fde2b2-2bdf-4b77-fee4-0795da46f818"
      },
      "outputs": [
        {
          "name": "stdout",
          "output_type": "stream",
          "text": [
            "    Name    Age   City  Salary\n",
            "0  False  False  False   False\n",
            "1  False  False  False    True\n",
            "2  False  False  False   False\n"
          ]
        }
      ],
      "source": [
        "df[\"Salary\"] = [50000, None, 70000]\n",
        "print(df.isnull())"
      ]
    },
    {
      "cell_type": "markdown",
      "metadata": {
        "id": "29Ly7idDWo4q"
      },
      "source": [
        "### Filling Missing Values"
      ]
    },
    {
      "cell_type": "code",
      "execution_count": 117,
      "metadata": {
        "colab": {
          "base_uri": "https://localhost:8080/"
        },
        "id": "9JniTaV-WpYh",
        "outputId": "1ee81e94-8f57-45de-828a-f900c359c39a"
      },
      "outputs": [
        {
          "name": "stdout",
          "output_type": "stream",
          "text": [
            "      Name  Age      City   Salary\n",
            "0    Alice   25  New York  50000.0\n",
            "1      Bob   30    London  60000.0\n",
            "2  Charlie   35     Paris  70000.0\n"
          ]
        }
      ],
      "source": [
        "df.fillna(df[\"Salary\"].mean(), inplace=True)\n",
        "print(df)"
      ]
    },
    {
      "cell_type": "markdown",
      "metadata": {
        "id": "-jT6FOPOWs5n"
      },
      "source": [
        "## 5. Data Transformation\n",
        "### Applying Functions"
      ]
    },
    {
      "cell_type": "code",
      "execution_count": 118,
      "metadata": {
        "colab": {
          "base_uri": "https://localhost:8080/"
        },
        "id": "Fc5WbM2IWu8v",
        "outputId": "183fcb66-94de-4a17-d4bb-db0472e7e37e"
      },
      "outputs": [
        {
          "name": "stdout",
          "output_type": "stream",
          "text": [
            "      Name  Age      City   Salary  Age in 10 Years\n",
            "0    Alice   25  New York  50000.0               35\n",
            "1      Bob   30    London  60000.0               40\n",
            "2  Charlie   35     Paris  70000.0               45\n"
          ]
        }
      ],
      "source": [
        "df[\"Age in 10 Years\"] = df[\"Age\"].apply(lambda x: x + 10)\n",
        "print(df)"
      ]
    },
    {
      "cell_type": "markdown",
      "metadata": {
        "id": "kJBJYt_pWwj_"
      },
      "source": [
        "## 6. Aggregation and Grouping\n",
        "### Grouping Data"
      ]
    },
    {
      "cell_type": "code",
      "execution_count": 119,
      "metadata": {
        "colab": {
          "base_uri": "https://localhost:8080/"
        },
        "id": "Md48SWElWxXf",
        "outputId": "9434fed3-d0d2-4b01-afd3-391ce63e1b46"
      },
      "outputs": [
        {
          "name": "stdout",
          "output_type": "stream",
          "text": [
            "Department\n",
            "Finance    80000.0\n",
            "HR         62500.0\n",
            "IT         72500.0\n",
            "Name: Salary, dtype: float64\n"
          ]
        }
      ],
      "source": [
        "data = {\n",
        "    \"Department\": [\"IT\", \"HR\", \"IT\", \"HR\", \"Finance\"],\n",
        "    \"Salary\": [70000, 60000, 75000, 65000, 80000]\n",
        "}\n",
        "df = pd.DataFrame(data)\n",
        "print(df.groupby(\"Department\")[\"Salary\"].mean())"
      ]
    },
    {
      "cell_type": "markdown",
      "metadata": {
        "id": "fm408TIYW00v"
      },
      "source": [
        "## 7. Merging and Joining DataFrames\n",
        "### Merging Two DataFrames"
      ]
    },
    {
      "cell_type": "code",
      "execution_count": 120,
      "metadata": {
        "colab": {
          "base_uri": "https://localhost:8080/"
        },
        "id": "5R0mCJ6cW1hn",
        "outputId": "4baf3010-fc77-4dba-e44a-d7ecd946d288"
      },
      "outputs": [
        {
          "name": "stdout",
          "output_type": "stream",
          "text": [
            "   ID     Name   Salary\n",
            "0   1    Alice  50000.0\n",
            "1   2      Bob  60000.0\n",
            "2   3  Charlie      NaN\n"
          ]
        }
      ],
      "source": [
        "df1 = pd.DataFrame({\"ID\": [1, 2, 3], \"Name\": [\"Alice\", \"Bob\", \"Charlie\"]})\n",
        "df2 = pd.DataFrame({\"ID\": [1, 2, 4], \"Salary\": [50000, 60000, 70000]})\n",
        "merged_df = pd.merge(df1, df2, on=\"ID\", how=\"left\")\n",
        "print(merged_df)"
      ]
    },
    {
      "cell_type": "markdown",
      "metadata": {
        "id": "v2-sjpGoW5I4"
      },
      "source": [
        "## 8. Working with Time Series Data\n",
        "### Creating a Time Series"
      ]
    },
    {
      "cell_type": "code",
      "execution_count": 121,
      "metadata": {
        "colab": {
          "base_uri": "https://localhost:8080/"
        },
        "id": "rNteFdC1W5-H",
        "outputId": "b8aa9c53-df81-4742-e3f2-d67d0002c2af"
      },
      "outputs": [
        {
          "name": "stdout",
          "output_type": "stream",
          "text": [
            "  Department  Salary       Date\n",
            "0         IT   70000 2023-01-01\n",
            "1         HR   60000 2023-01-02\n",
            "2         IT   75000 2023-01-03\n",
            "3         HR   65000 2023-01-04\n",
            "4    Finance   80000 2023-01-05\n"
          ]
        }
      ],
      "source": [
        "df[\"Date\"] = pd.date_range(start=\"2023-01-01\", periods=len(df), freq=\"D\")\n",
        "print(df)"
      ]
    },
    {
      "cell_type": "markdown",
      "metadata": {
        "id": "f9jRkAjzW86-"
      },
      "source": [
        "## 9. Performance Optimization\n",
        "### Using Efficient Data Types"
      ]
    },
    {
      "cell_type": "code",
      "execution_count": 122,
      "metadata": {
        "colab": {
          "base_uri": "https://localhost:8080/"
        },
        "id": "XK2QrOUTW9RG",
        "outputId": "3f9a0ba9-d59f-4b60-e5a4-ee19f060b2e7"
      },
      "outputs": [
        {
          "name": "stdout",
          "output_type": "stream",
          "text": [
            "Department            object\n",
            "Salary                 int32\n",
            "Date          datetime64[ns]\n",
            "dtype: object\n"
          ]
        }
      ],
      "source": [
        "df[\"Salary\"] = df[\"Salary\"].astype(\"int32\")\n",
        "print(df.dtypes)"
      ]
    },
    {
      "cell_type": "markdown",
      "metadata": {
        "id": "xLu06VRcXAVn"
      },
      "source": [
        "## 10. Exercises\n",
        "### Exercise 1: Data Cleaning\n",
        "- Load a dataset with missing values and clean it.\n",
        "- Fill missing values using median instead of mean."
      ]
    },
    {
      "cell_type": "code",
      "execution_count": 122,
      "metadata": {
        "id": "onLuqhi-XBa2"
      },
      "outputs": [],
      "source": []
    },
    {
      "cell_type": "markdown",
      "metadata": {
        "id": "imQaXPvCXDza"
      },
      "source": [
        "### Exercise 2: Data Transformation\n",
        "- Create a new column with a transformed version of an existing column.\n",
        "- Apply a custom function to each row."
      ]
    },
    {
      "cell_type": "code",
      "execution_count": 122,
      "metadata": {
        "id": "67_4Gs74XE3W"
      },
      "outputs": [],
      "source": []
    },
    {
      "cell_type": "markdown",
      "metadata": {
        "id": "PJwf4sDVXFd9"
      },
      "source": [
        "### Exercise 3: Aggregation and Grouping\n",
        "- Group data by a categorical column and compute statistics.\n",
        "- Find the highest value in each group."
      ]
    },
    {
      "cell_type": "code",
      "execution_count": 122,
      "metadata": {
        "id": "jxbOPvXXXIPl"
      },
      "outputs": [],
      "source": []
    },
    {
      "cell_type": "markdown",
      "metadata": {
        "id": "uPig7Kx-T7VP"
      },
      "source": [
        "### Exercise 4: Merging DataFrames\n",
        "- Merge two datasets on a common key using different join types.\n",
        "- Handle missing values after merging."
      ]
    },
    {
      "cell_type": "code",
      "execution_count": 122,
      "metadata": {
        "id": "nzN073h8XJ_1"
      },
      "outputs": [],
      "source": []
    },
    {
      "cell_type": "markdown",
      "metadata": {
        "id": "n9Z7s8emXQpd"
      },
      "source": [
        "# Advanced Python Algorithms Course\n",
        "\n",
        "## Table of Contents\n",
        "1. [Sorting Algorithms](#1-sorting-algorithms)\n",
        "2. [Graph Algorithms](#2-graph-algorithms)\n",
        "3. [Dynamic Programming](#3-dynamic-programming)\n",
        "4. [Backtracking](#4-backtracking)\n",
        "5. [Greedy Algorithms](#5-greedy-algorithms)\n",
        "6. [Divide and Conquer](#6-divide-and-conquer)\n",
        "7. [Exercises](#7-exercises)"
      ]
    },
    {
      "cell_type": "markdown",
      "metadata": {
        "id": "qSKq7N7dXUcF"
      },
      "source": [
        "## 1. Sorting Algorithms\n",
        "Sorting algorithms are used to arrange elements in a specific order. Efficient sorting is crucial in programming, as it improves data retrieval and processing speed."
      ]
    },
    {
      "cell_type": "markdown",
      "metadata": {
        "id": "MhXikJecXVru"
      },
      "source": [
        "### Quick Sort\n",
        "Quick Sort is a divide-and-conquer algorithm that works by selecting a 'pivot' and partitioning the elements around it."
      ]
    },
    {
      "cell_type": "code",
      "execution_count": 123,
      "metadata": {
        "colab": {
          "base_uri": "https://localhost:8080/"
        },
        "id": "fz_dJsL3XaFl",
        "outputId": "a4476514-840f-487e-d762-9dd838de6dcd"
      },
      "outputs": [
        {
          "name": "stdout",
          "output_type": "stream",
          "text": [
            "Sorted array: [1, 1, 2, 3, 6, 8, 10]\n"
          ]
        }
      ],
      "source": [
        "def quick_sort(arr):\n",
        "    if len(arr) <= 1:\n",
        "        return arr\n",
        "    pivot = arr[len(arr) // 2]\n",
        "    left = [x for x in arr if x < pivot]\n",
        "    middle = [x for x in arr if x == pivot]\n",
        "    right = [x for x in arr if x > pivot]\n",
        "    return quick_sort(left) + middle + quick_sort(right)\n",
        "\n",
        "arr = [3, 6, 8, 10, 1, 2, 1]\n",
        "print(\"Sorted array:\", quick_sort(arr))"
      ]
    },
    {
      "cell_type": "markdown",
      "metadata": {
        "id": "7jELpj4cXclc"
      },
      "source": [
        "**Explanation:**\n",
        "- A pivot is chosen (middle element).\n",
        "- Elements are divided into those smaller, equal, and larger than the pivot.\n",
        "- The process is recursively applied to the left and right partitions."
      ]
    },
    {
      "cell_type": "markdown",
      "metadata": {
        "id": "lrH5MhoNXeld"
      },
      "source": [
        "## 2. Graph Algorithms\n",
        "Graphs represent relationships between objects and are widely used in networking, AI, and route planning."
      ]
    },
    {
      "cell_type": "markdown",
      "metadata": {
        "id": "jA4hwyXOXg1H"
      },
      "source": [
        "### Breadth-First Search (BFS)\n",
        "BFS explores all neighbors at the present depth before moving deeper."
      ]
    },
    {
      "cell_type": "code",
      "execution_count": 124,
      "metadata": {
        "colab": {
          "base_uri": "https://localhost:8080/"
        },
        "id": "ba05mcZaXkMk",
        "outputId": "21efa98e-cb01-46b3-f5b6-9549002b6cba"
      },
      "outputs": [
        {
          "name": "stdout",
          "output_type": "stream",
          "text": [
            "A B C D E F "
          ]
        }
      ],
      "source": [
        "from collections import deque\n",
        "\n",
        "def bfs(graph, start):\n",
        "    visited = set()\n",
        "    queue = deque([start])\n",
        "\n",
        "    while queue:\n",
        "        vertex = queue.popleft()\n",
        "        if vertex not in visited:\n",
        "            print(vertex, end=\" \")\n",
        "            visited.add(vertex)\n",
        "            queue.extend(graph[vertex] - visited)\n",
        "\n",
        "graph = {\n",
        "    'A': {'B', 'C'},\n",
        "    'B': {'A', 'D', 'E'},\n",
        "    'C': {'A', 'F'},\n",
        "    'D': {'B'},\n",
        "    'E': {'B', 'F'},\n",
        "    'F': {'C', 'E'}\n",
        "}\n",
        "\n",
        "bfs(graph, 'A')"
      ]
    },
    {
      "cell_type": "markdown",
      "metadata": {
        "id": "4iROxtFKXnhk"
      },
      "source": [
        "**Explanation:**\n",
        "- We maintain a queue and a set of visited nodes.\n",
        "- Nodes are processed in layers, ensuring the shortest path is found."
      ]
    },
    {
      "cell_type": "markdown",
      "metadata": {
        "id": "nNlf_G0RXo62"
      },
      "source": [
        "## 3. Dynamic Programming\n",
        "Dynamic programming (DP) optimizes recursive problems by storing previous results."
      ]
    },
    {
      "cell_type": "markdown",
      "metadata": {
        "id": "z0BVbeoVXqqL"
      },
      "source": [
        "### Fibonacci Sequence using Memoization"
      ]
    },
    {
      "cell_type": "code",
      "execution_count": 125,
      "metadata": {
        "colab": {
          "base_uri": "https://localhost:8080/"
        },
        "id": "wSy7RBUBXrNe",
        "outputId": "bc8933d4-e1c6-47df-973f-7bb7e1944fc0"
      },
      "outputs": [
        {
          "name": "stdout",
          "output_type": "stream",
          "text": [
            "Fibonacci(10): 55\n"
          ]
        }
      ],
      "source": [
        "def fibonacci(n, memo={}):\n",
        "    if n in memo:\n",
        "        return memo[n]\n",
        "    if n <= 1:\n",
        "        return n\n",
        "    memo[n] = fibonacci(n - 1, memo) + fibonacci(n - 2, memo)\n",
        "    return memo[n]\n",
        "\n",
        "print(\"Fibonacci(10):\", fibonacci(10))"
      ]
    },
    {
      "cell_type": "markdown",
      "metadata": {
        "id": "0_xqRtMWXwJc"
      },
      "source": [
        "**Explanation:**\n",
        "- Memoization saves computed values to avoid redundant calculations.\n",
        "- This reduces the time complexity from exponential to linear."
      ]
    },
    {
      "cell_type": "markdown",
      "metadata": {
        "id": "bI5smsRiXxnz"
      },
      "source": [
        "## 4. Backtracking\n",
        "Backtracking systematically explores all possibilities to solve constraint-based problems."
      ]
    },
    {
      "cell_type": "markdown",
      "metadata": {
        "id": "bW8u84JeXze7"
      },
      "source": [
        "### Solving the N-Queens Problem"
      ]
    },
    {
      "cell_type": "markdown",
      "metadata": {
        "id": "xglLSEoPX3UR"
      },
      "source": [
        "def solve_n_queens(n):\n",
        "    def is_safe(board, row, col):\n",
        "        for i in range(row):\n",
        "            if board[i] == col or abs(board[i] - col) == abs(i - row):\n",
        "                return False\n",
        "        return True\n",
        "\n",
        "    def backtrack(row=0):\n",
        "        if row == n:\n",
        "            solutions.append(list(board))\n",
        "            return\n",
        "        for col in range(n):\n",
        "            if is_safe(board, row, col):\n",
        "                board[row] = col\n",
        "                backtrack(row + 1)\n",
        "                board[row] = -1\n",
        "\n",
        "    solutions = []\n",
        "    board = [-1] * n\n",
        "    backtrack()\n",
        "    return solutions\n",
        "\n",
        "print(\"Solutions for 4-Queens:\", solve_n_queens(4))"
      ]
    },
    {
      "cell_type": "markdown",
      "metadata": {
        "id": "1KTZ0UJFX6u9"
      },
      "source": [
        "**Explanation:**\n",
        "- The algorithm attempts to place queens row by row, checking constraints.\n",
        "- If a conflict arises, it backtracks and tries a different placement."
      ]
    },
    {
      "cell_type": "markdown",
      "metadata": {
        "id": "M4OoVjW6X80P"
      },
      "source": [
        "## 5. Greedy Algorithms\n",
        "Greedy algorithms make locally optimal choices at each step."
      ]
    },
    {
      "cell_type": "markdown",
      "metadata": {
        "id": "RlAQ6WVqX_N8"
      },
      "source": [
        "### Activity Selection Problem"
      ]
    },
    {
      "cell_type": "code",
      "execution_count": 126,
      "metadata": {
        "colab": {
          "base_uri": "https://localhost:8080/"
        },
        "id": "1JQGFXSoX_oj",
        "outputId": "1c7e0294-1f65-4d58-fba0-58afe2468970"
      },
      "outputs": [
        {
          "name": "stdout",
          "output_type": "stream",
          "text": [
            "Selected activities: [(1, 3), (5, 7)]\n"
          ]
        }
      ],
      "source": [
        "def activity_selection(activities):\n",
        "    activities.sort(key=lambda x: x[1])  # Sort by finish time\n",
        "    selected = [activities[0]]\n",
        "    last_end = activities[0][1]\n",
        "\n",
        "    for i in range(1, len(activities)):\n",
        "        if activities[i][0] >= last_end:\n",
        "            selected.append(activities[i])\n",
        "            last_end = activities[i][1]\n",
        "\n",
        "    return selected\n",
        "\n",
        "activities = [(1, 3), (2, 5), (3, 9), (6, 8), (5, 7)]\n",
        "print(\"Selected activities:\", activity_selection(activities))"
      ]
    },
    {
      "cell_type": "markdown",
      "metadata": {
        "id": "NYAV-c4yYEDS"
      },
      "source": [
        "**Explanation:**\n",
        "- Activities are sorted by finishing time.\n",
        "- The earliest finishing activity is always chosen first."
      ]
    },
    {
      "cell_type": "markdown",
      "metadata": {
        "id": "mBC7W0EeYGdK"
      },
      "source": [
        "## 6. Divide and Conquer\n",
        "Divide and conquer breaks problems into subproblems and combines results."
      ]
    },
    {
      "cell_type": "markdown",
      "metadata": {
        "id": "4W6xoSxbYJ7B"
      },
      "source": [
        "### Merge Sort"
      ]
    },
    {
      "cell_type": "code",
      "execution_count": 127,
      "metadata": {
        "colab": {
          "base_uri": "https://localhost:8080/"
        },
        "id": "BXoo3RjeYMqy",
        "outputId": "5fb0bdf4-68f6-4ee9-eca2-a6d8460708cb"
      },
      "outputs": [
        {
          "name": "stdout",
          "output_type": "stream",
          "text": [
            "Sorted array: [3, 7, 8, 10, 15, 18, 23, 74]\n"
          ]
        }
      ],
      "source": [
        "def merge_sort(arr):\n",
        "    if len(arr) <= 1:\n",
        "        return arr\n",
        "    mid = len(arr) // 2\n",
        "    left = merge_sort(arr[:mid])\n",
        "    right = merge_sort(arr[mid:])\n",
        "    return merge(left, right)\n",
        "\n",
        "def merge(left, right):\n",
        "    result = []\n",
        "    i = j = 0\n",
        "    while i < len(left) and j < len(right):\n",
        "        if left[i] < right[j]:\n",
        "            result.append(left[i])\n",
        "            i += 1\n",
        "        else:\n",
        "            result.append(right[j])\n",
        "            j += 1\n",
        "    result.extend(left[i:])\n",
        "    result.extend(right[j:])\n",
        "    return result\n",
        "\n",
        "arr = [10, 3, 15, 7, 8, 23, 74, 18]\n",
        "print(\"Sorted array:\", merge_sort(arr))"
      ]
    },
    {
      "cell_type": "markdown",
      "metadata": {
        "id": "mbd4WF-4YO5x"
      },
      "source": [
        "**Explanation:**\n",
        "- The list is recursively split in half.\n",
        "- Each half is sorted and then merged efficiently.\n",
        "\n",
        "These explanations and examples deepen understanding and demonstrate algorithmic efficiency."
      ]
    },
    {
      "cell_type": "code",
      "execution_count": 127,
      "metadata": {
        "id": "oVIJ9O-eUQOU"
      },
      "outputs": [],
      "source": []
    },
    {
      "cell_type": "markdown",
      "metadata": {
        "id": "IXV-u-CzYcVx"
      },
      "source": [
        "# Advanced Regular Expressions in Python\n",
        "\n",
        "## Table of Contents\n",
        "1. [Introduction to Regular Expressions](#1-introduction-to-regular-expressions)\n",
        "2. [Basic Syntax and Metacharacters](#2-basic-syntax-and-metacharacters)\n",
        "3. [Advanced Regular Expressions](#3-advanced-regular-expressions)\n",
        "4. [Working with Groups and Captures](#4-working-with-groups-and-captures)\n",
        "5. [Lookaheads and Lookbehinds](#5-lookaheads-and-lookbehinds)\n",
        "6. [Performance Optimization](#6-performance-optimization)\n",
        "7. [Practical Examples](#7-practical-examples)\n",
        "8. [Exercises](#8-exercises)"
      ]
    },
    {
      "cell_type": "markdown",
      "metadata": {
        "id": "DQ6T4ObsYefJ"
      },
      "source": [
        "## 1. Introduction to Regular Expressions\n",
        "Regular expressions (regex) are sequences of characters defining search patterns. They are widely used for text processing."
      ]
    },
    {
      "cell_type": "code",
      "execution_count": 128,
      "metadata": {
        "colab": {
          "base_uri": "https://localhost:8080/"
        },
        "id": "b6-xHP25YhHo",
        "outputId": "c6b8787a-9215-4f5e-a41e-c03f49e63350"
      },
      "outputs": [
        {
          "name": "stdout",
          "output_type": "stream",
          "text": [
            "Found: example@test.com\n"
          ]
        }
      ],
      "source": [
        "import re\n",
        "text = \"Hello, my email is example@test.com\"\n",
        "pattern = r\"\\w+@\\w+\\.\\w+\"\n",
        "match = re.search(pattern, text)\n",
        "print(\"Found:\", match.group() if match else \"No match\")"
      ]
    },
    {
      "cell_type": "markdown",
      "metadata": {
        "id": "sDfFkcMGYkHi"
      },
      "source": [
        "## 2. Basic Syntax and Metacharacters\n",
        "Metacharacters define patterns:\n",
        "- `.` matches any character\n",
        "- `^` matches the start of a string\n",
        "- `$` matches the end of a string\n",
        "- `*`, `+`, `{}` specify repetition"
      ]
    },
    {
      "cell_type": "code",
      "execution_count": 129,
      "metadata": {
        "colab": {
          "base_uri": "https://localhost:8080/"
        },
        "id": "d2NiguzKYm3g",
        "outputId": "b9cbbcb9-0f46-4f8d-e1bd-43b5f0cb8ab2"
      },
      "outputs": [
        {
          "name": "stdout",
          "output_type": "stream",
          "text": [
            "['123']\n"
          ]
        }
      ],
      "source": [
        "text = \"Hello 123 world!\"\n",
        "pattern = r\"\\d+\"\n",
        "print(re.findall(pattern, text))  # Finds all numbers"
      ]
    },
    {
      "cell_type": "markdown",
      "metadata": {
        "id": "gSxKLVHVYpdQ"
      },
      "source": [
        "## 3. Advanced Regular Expressions\n",
        "### Using Character Classes"
      ]
    },
    {
      "cell_type": "code",
      "execution_count": 130,
      "metadata": {
        "colab": {
          "base_uri": "https://localhost:8080/"
        },
        "id": "awnpEloeYsVQ",
        "outputId": "668f4fff-88aa-46a8-ec46-65f49f907bf0"
      },
      "outputs": [
        {
          "name": "stdout",
          "output_type": "stream",
          "text": [
            "['My', 'Alice', 'Paris']\n"
          ]
        }
      ],
      "source": [
        "pattern = r\"[A-Z][a-z]+\"\n",
        "text = \"My name is Alice and I live in Paris\"\n",
        "print(re.findall(pattern, text))"
      ]
    },
    {
      "cell_type": "markdown",
      "metadata": {
        "id": "igHGk7w1YuJQ"
      },
      "source": [
        "### Matching Multiple Patterns"
      ]
    },
    {
      "cell_type": "code",
      "execution_count": 131,
      "metadata": {
        "colab": {
          "base_uri": "https://localhost:8080/"
        },
        "id": "uxFKsFHIYwLP",
        "outputId": "afd9f707-8584-45a3-f160-34c413c9528d"
      },
      "outputs": [
        {
          "name": "stdout",
          "output_type": "stream",
          "text": [
            "['cat', 'dog']\n"
          ]
        }
      ],
      "source": [
        "pattern = r\"\\b(cat|dog|fish)\\b\"\n",
        "text = \"I have a cat and a dog.\"\n",
        "print(re.findall(pattern, text))"
      ]
    },
    {
      "cell_type": "markdown",
      "metadata": {
        "id": "Ili-Ed7hY0_5"
      },
      "source": [
        "## 4. Working with Groups and Captures\n",
        "Grouping allows extracting specific parts of a match."
      ]
    },
    {
      "cell_type": "code",
      "execution_count": 132,
      "metadata": {
        "colab": {
          "base_uri": "https://localhost:8080/"
        },
        "id": "Sx0dmXtjY6Wx",
        "outputId": "ae71318f-6334-4b04-eef9-cf0a57eccce7"
      },
      "outputs": [
        {
          "name": "stdout",
          "output_type": "stream",
          "text": [
            "Area: 123\n",
            "Group: 45\n",
            "Serial: 6789\n"
          ]
        }
      ],
      "source": [
        "pattern = r\"(\\d{3})-(\\d{2})-(\\d{4})\"\n",
        "text = \"My SSN is 123-45-6789\"\n",
        "match = re.search(pattern, text)\n",
        "if match:\n",
        "    print(\"Area:\", match.group(1))\n",
        "    print(\"Group:\", match.group(2))\n",
        "    print(\"Serial:\", match.group(3))"
      ]
    },
    {
      "cell_type": "markdown",
      "metadata": {
        "id": "gbKgh9tfY9kP"
      },
      "source": [
        "## 5. Lookaheads and Lookbehinds\n",
        "Lookaheads and lookbehinds match patterns without including them in the result."
      ]
    },
    {
      "cell_type": "code",
      "execution_count": 133,
      "metadata": {
        "colab": {
          "base_uri": "https://localhost:8080/"
        },
        "id": "c4y5_35pY_CD",
        "outputId": "08f6ae05-3492-48f8-9579-7a8dc0e6c4fc"
      },
      "outputs": [
        {
          "name": "stdout",
          "output_type": "stream",
          "text": [
            "['100']\n"
          ]
        }
      ],
      "source": [
        "# Positive lookahead\n",
        "pattern = r\"\\d+(?= dollars)\"\n",
        "text = \"The price is 100 dollars\"\n",
        "print(re.findall(pattern, text))"
      ]
    },
    {
      "cell_type": "code",
      "execution_count": 134,
      "metadata": {
        "colab": {
          "base_uri": "https://localhost:8080/"
        },
        "id": "UxH4gyiDZCPo",
        "outputId": "56108c4c-6823-4d9c-c7f8-3bc06d4b4c48"
      },
      "outputs": [
        {
          "name": "stdout",
          "output_type": "stream",
          "text": [
            "['Smith', 'Smith']\n"
          ]
        }
      ],
      "source": [
        "# Negative lookbehind\n",
        "pattern = r\"(?<!Mr\\.)\\bSmith\\b\"\n",
        "text = \"Hello Smith, Mr. Smith is here.\"\n",
        "print(re.findall(pattern, text))"
      ]
    },
    {
      "cell_type": "markdown",
      "metadata": {
        "id": "1n8gIok4ZEnl"
      },
      "source": [
        "## 6. Performance Optimization\n",
        "### Using Compiled Regular Expressions"
      ]
    },
    {
      "cell_type": "code",
      "execution_count": 135,
      "metadata": {
        "colab": {
          "base_uri": "https://localhost:8080/"
        },
        "id": "wPM-_crgZGjX",
        "outputId": "e4e10032-d643-4fa2-ccbb-05cb83648ca8"
      },
      "outputs": [
        {
          "name": "stdout",
          "output_type": "stream",
          "text": [
            "['1234', '5678', '9101']\n"
          ]
        }
      ],
      "source": [
        "pattern = re.compile(r\"\\d{4}\")\n",
        "text = \"1234 5678 9101\"\n",
        "print(pattern.findall(text))"
      ]
    },
    {
      "cell_type": "markdown",
      "metadata": {
        "id": "SmkjQQGCZID_"
      },
      "source": [
        "### Avoiding Catastrophic Backtracking"
      ]
    },
    {
      "cell_type": "code",
      "execution_count": 136,
      "metadata": {
        "colab": {
          "base_uri": "https://localhost:8080/"
        },
        "id": "c-gGKHFGZKLq",
        "outputId": "608c81da-b7f2-46cb-b28e-2832b75988f3"
      },
      "outputs": [
        {
          "name": "stdout",
          "output_type": "stream",
          "text": [
            "No match\n"
          ]
        }
      ],
      "source": [
        "pattern = r\"(a+)+b\"\n",
        "text = \"aaaaaaaaaaaaaaaaac\"\n",
        "match = re.fullmatch(pattern, text)\n",
        "print(\"Match found\" if match else \"No match\")"
      ]
    },
    {
      "cell_type": "markdown",
      "metadata": {
        "id": "HDZG9SGTZMDl"
      },
      "source": [
        "## 7. Practical Examples\n",
        "### Extracting URLs from Text"
      ]
    },
    {
      "cell_type": "code",
      "execution_count": 137,
      "metadata": {
        "colab": {
          "base_uri": "https://localhost:8080/"
        },
        "id": "lNQAJelrZNfH",
        "outputId": "4d5e2123-333b-4ab3-978a-ddc8c6a90e12"
      },
      "outputs": [
        {
          "name": "stdout",
          "output_type": "stream",
          "text": [
            "['https://www.google.com', 'http://example.com']\n"
          ]
        }
      ],
      "source": [
        "pattern = r\"https?://(?:www\\.)?\\w+\\.\\w+\"\n",
        "text = \"Visit https://www.google.com and http://example.com\"\n",
        "print(re.findall(pattern, text))"
      ]
    },
    {
      "cell_type": "markdown",
      "metadata": {
        "id": "xeRKzvK_ZPgu"
      },
      "source": [
        "### Validating Email Addresses"
      ]
    },
    {
      "cell_type": "code",
      "execution_count": 138,
      "metadata": {
        "colab": {
          "base_uri": "https://localhost:8080/"
        },
        "id": "AKq_AEO9ZQ2X",
        "outputId": "d22903ed-55f1-430e-8986-fadb8d110acd"
      },
      "outputs": [
        {
          "name": "stdout",
          "output_type": "stream",
          "text": [
            "Valid\n"
          ]
        }
      ],
      "source": [
        "pattern = r\"^[a-zA-Z0-9_.+-]+@[a-zA-Z0-9-]+\\.[a-zA-Z0-9-.]+$\"\n",
        "email = \"user@example.com\"\n",
        "print(\"Valid\" if re.match(pattern, email) else \"Invalid\")"
      ]
    },
    {
      "cell_type": "markdown",
      "metadata": {
        "id": "OaLCoOayZTMA"
      },
      "source": [
        "## 8. Exercises\n",
        "### Exercise 1: Extract Dates\n",
        "- Write a regex pattern to extract dates in `YYYY-MM-DD` format.\n",
        "- Test it on sample text."
      ]
    },
    {
      "cell_type": "code",
      "execution_count": 138,
      "metadata": {
        "id": "9GLI0b5iZXCW"
      },
      "outputs": [],
      "source": []
    },
    {
      "cell_type": "markdown",
      "metadata": {
        "id": "B_GqDAPFZXam"
      },
      "source": [
        "### Exercise 2: Phone Number Validation\n",
        "- Write a regex to validate US phone numbers (format: `(123) 456-7890`)."
      ]
    },
    {
      "cell_type": "code",
      "execution_count": 138,
      "metadata": {
        "id": "G1h-TZr7ZYNe"
      },
      "outputs": [],
      "source": []
    },
    {
      "cell_type": "markdown",
      "metadata": {
        "id": "R-8EqIvBZaim"
      },
      "source": [
        "### Exercise 3: Password Strength Checker\n",
        "- Create a regex pattern that ensures a password contains at least:\n",
        "  - 8 characters\n",
        "  - One uppercase letter\n",
        "  - One lowercase letter\n",
        "  - One digit\n",
        "  - One special character"
      ]
    },
    {
      "cell_type": "code",
      "execution_count": 138,
      "metadata": {
        "id": "Q50-FEMkZbYP"
      },
      "outputs": [],
      "source": []
    },
    {
      "cell_type": "markdown",
      "metadata": {
        "id": "p4w21UnFURHM"
      },
      "source": [
        "\n",
        "### Exercise 4: Extract Hashtags\n",
        "- Write a regex pattern to extract hashtags from social media posts."
      ]
    },
    {
      "cell_type": "code",
      "execution_count": 138,
      "metadata": {
        "id": "tWTqDpOsZbt-"
      },
      "outputs": [],
      "source": []
    },
    {
      "cell_type": "markdown",
      "metadata": {
        "id": "gSl1uu9Pcsyt"
      },
      "source": [
        "# Advanced File I/O in Python\n",
        "\n",
        "## Table of Contents\n",
        "1. [Introduction to File I/O](#1-introduction-to-file-io)\n",
        "2. [Reading and Writing Text Files](#2-reading-and-writing-text-files)\n",
        "3. [Handling Different File Modes](#3-handling-different-file-modes)\n",
        "4. [Working with Binary Files](#4-working-with-binary-files)\n",
        "5. [Using File Context Managers](#5-using-file-context-managers)\n",
        "6. [Processing Large Files Efficiently](#6-processing-large-files-efficiently)\n",
        "7. [Working with JSON and CSV Files](#7-working-with-json-and-csv-files)\n",
        "8. [Handling File Errors and Exceptions](#8-handling-file-errors-and-exceptions)\n",
        "9. [Exercises](#9-exercises)"
      ]
    },
    {
      "cell_type": "markdown",
      "metadata": {
        "id": "q6fdgx-hcyaM"
      },
      "source": [
        "## 1. Introduction to File I/O\n",
        "File I/O (Input/Output) allows Python to interact with external files for reading, writing, and processing data."
      ]
    },
    {
      "cell_type": "code",
      "execution_count": 139,
      "metadata": {
        "colab": {
          "base_uri": "https://localhost:8080/"
        },
        "id": "gMs-ltI_czYD",
        "outputId": "bebc6b5c-d153-4b92-b5c4-c33457bf23da"
      },
      "outputs": [
        {
          "name": "stdout",
          "output_type": "stream",
          "text": [
            "File exists: True\n"
          ]
        }
      ],
      "source": [
        "# Checking if a file exists\n",
        "import os\n",
        "print(\"File exists:\", os.path.exists(\"sample.txt\"))"
      ]
    },
    {
      "cell_type": "markdown",
      "metadata": {
        "id": "DZWD5FZWc3Wb"
      },
      "source": [
        "## 2. Reading and Writing Text Files\n",
        "### Writing to a File"
      ]
    },
    {
      "cell_type": "code",
      "execution_count": 140,
      "metadata": {
        "id": "9HNxVrD2c630"
      },
      "outputs": [],
      "source": [
        "with open(\"sample.txt\", \"w\") as file:\n",
        "    file.write(\"Hello, world!\\n\")\n",
        "    file.write(\"This is a text file example.\")"
      ]
    },
    {
      "cell_type": "markdown",
      "metadata": {
        "id": "WkJQhkvKc9FI"
      },
      "source": [
        "### Reading from a File"
      ]
    },
    {
      "cell_type": "code",
      "execution_count": 141,
      "metadata": {
        "colab": {
          "base_uri": "https://localhost:8080/"
        },
        "id": "_qErbnkXc_Gk",
        "outputId": "a0a41e9a-8076-443a-96ab-86d624a15472"
      },
      "outputs": [
        {
          "name": "stdout",
          "output_type": "stream",
          "text": [
            "Hello, world!\n",
            "This is a text file example.\n"
          ]
        }
      ],
      "source": [
        "with open(\"sample.txt\", \"r\") as file:\n",
        "    content = file.read()\n",
        "print(content)"
      ]
    },
    {
      "cell_type": "markdown",
      "metadata": {
        "id": "--jvhXoxdBb_"
      },
      "source": [
        "## 3. Handling Different File Modes\n",
        "- **\"r\"**: Read mode\n",
        "- **\"w\"**: Write mode (overwrites file)\n",
        "- **\"a\"**: Append mode\n",
        "- **\"r+\"**: Read and write"
      ]
    },
    {
      "cell_type": "markdown",
      "metadata": {
        "id": "zzNogLGDdDk7"
      },
      "source": [
        "Example of appending data:"
      ]
    },
    {
      "cell_type": "code",
      "execution_count": 142,
      "metadata": {
        "id": "l20jTXYGdFYb"
      },
      "outputs": [],
      "source": [
        "with open(\"sample.txt\", \"a\") as file:\n",
        "    file.write(\"\\nAppending new content.\")"
      ]
    },
    {
      "cell_type": "markdown",
      "metadata": {
        "id": "D9um5rMtdHv0"
      },
      "source": [
        "## 4. Working with Binary Files\n",
        "Binary files are used for non-text data such as images, audio, and compiled files."
      ]
    },
    {
      "cell_type": "code",
      "execution_count": 143,
      "metadata": {
        "colab": {
          "base_uri": "https://localhost:8080/"
        },
        "id": "-PkLEK6Vem-O",
        "outputId": "6c540af1-b690-4eae-8d09-aece7be0cd0d"
      },
      "outputs": [
        {
          "name": "stdout",
          "output_type": "stream",
          "text": [
            "Image successfully downloaded as 'downloaded_image.png'\n"
          ]
        }
      ],
      "source": [
        "import urllib.request\n",
        "\n",
        "url = \"https://pbs.twimg.com/media/B-buDdYIgAAYO9d.png\"\n",
        "file_name = \"downloaded_image.png\"\n",
        "\n",
        "urllib.request.urlretrieve(url, file_name)\n",
        "print(\"Image successfully downloaded as 'downloaded_image.png'\")"
      ]
    },
    {
      "cell_type": "code",
      "execution_count": 144,
      "metadata": {
        "colab": {
          "base_uri": "https://localhost:8080/"
        },
        "id": "bQ4eBNhzdKVD",
        "outputId": "7e9edc10-5134-4dec-f15b-d88bd322091c"
      },
      "outputs": [
        {
          "name": "stdout",
          "output_type": "stream",
          "text": [
            "Binary data size: 251059\n"
          ]
        }
      ],
      "source": [
        "# Writing a binary file\n",
        "with open(\"/content/downloaded_image.png\", \"rb\") as img:\n",
        "    binary_data = img.read()\n",
        "print(\"Binary data size:\", len(binary_data))"
      ]
    },
    {
      "cell_type": "markdown",
      "metadata": {
        "id": "4EhN-0zZdJ7M"
      },
      "source": [
        "## 5. Using File Context Managers\n",
        "Using `with open()` ensures files are properly closed after processing.\n",
        "Before, you can create a data.txt file with this content:"
      ]
    },
    {
      "cell_type": "code",
      "execution_count": 145,
      "metadata": {
        "colab": {
          "base_uri": "https://localhost:8080/"
        },
        "id": "UvSJtmQ2fx_U",
        "outputId": "b1a20a45-f958-477d-e6ff-7af3e8999c4c"
      },
      "outputs": [
        {
          "name": "stdout",
          "output_type": "stream",
          "text": [
            "data.txt has been created with sample content.\n"
          ]
        }
      ],
      "source": [
        "# Sample content\n",
        "content = \"\"\"Name, Age, City\n",
        "Alice, 30, New York\n",
        "Bob, 25, Los Angeles\n",
        "Charlie, 35, Chicago\"\"\"\n",
        "\n",
        "# Write to data.txt\n",
        "with open(\"/content/data.txt\", \"w\") as file:\n",
        "    file.write(content)\n",
        "\n",
        "print(\"data.txt has been created with sample content.\")"
      ]
    },
    {
      "cell_type": "code",
      "execution_count": 146,
      "metadata": {
        "id": "EjxDM1dOdRH0"
      },
      "outputs": [],
      "source": [
        "with open(\"/content/data.txt\", \"w\") as file:\n",
        "    file.write(\"Using context managers simplifies file handling.\")"
      ]
    },
    {
      "cell_type": "markdown",
      "metadata": {
        "id": "aH3ri_1ldS-c"
      },
      "source": [
        "## 6. Processing Large Files Efficiently\n",
        "### Reading Large Files Line by Line"
      ]
    },
    {
      "cell_type": "code",
      "execution_count": 147,
      "metadata": {
        "colab": {
          "base_uri": "https://localhost:8080/"
        },
        "id": "8DGyUv63dVmb",
        "outputId": "c7eb17ab-33ff-4f38-8bdf-ab876db46941"
      },
      "outputs": [
        {
          "name": "stdout",
          "output_type": "stream",
          "text": [
            "Using context managers simplifies file handling.\n"
          ]
        }
      ],
      "source": [
        "with open(\"/content/data.txt\", \"r\") as file:\n",
        "    for line in file:\n",
        "        print(line.strip())  # Process each line"
      ]
    },
    {
      "cell_type": "code",
      "execution_count": 148,
      "metadata": {
        "colab": {
          "base_uri": "https://localhost:8080/"
        },
        "id": "7JHpGHNodary",
        "outputId": "c0e415a9-8bb4-4615-f25d-25cf14917413"
      },
      "outputs": [
        {
          "name": "stdout",
          "output_type": "stream",
          "text": [
            "Using context managers simplifies file handling.\n"
          ]
        }
      ],
      "source": [
        "def read_large_file(filename):\n",
        "    with open(filename, \"r\") as file:\n",
        "        for line in file:\n",
        "            yield line.strip()\n",
        "\n",
        "for line in read_large_file(\"/content/data.txt\"):\n",
        "    print(line)"
      ]
    },
    {
      "cell_type": "markdown",
      "metadata": {
        "id": "UES8cts2dXwj"
      },
      "source": [
        "### Using Generators for Efficient File Processing"
      ]
    },
    {
      "cell_type": "markdown",
      "metadata": {
        "id": "8csBZKzvdcrz"
      },
      "source": [
        "## 7. Working with JSON and CSV Files\n",
        "### JSON File Handling"
      ]
    },
    {
      "cell_type": "code",
      "execution_count": 149,
      "metadata": {
        "id": "D75oRR-kdemA"
      },
      "outputs": [],
      "source": [
        "import json\n",
        "\n",
        "data = {\"name\": \"Alice\", \"age\": 25, \"city\": \"New York\"}\n",
        "with open(\"/content/data.json\", \"w\") as file:\n",
        "    json.dump(data, file, indent=4)"
      ]
    },
    {
      "cell_type": "markdown",
      "metadata": {
        "id": "IB97CbKZdg6L"
      },
      "source": [
        "### CSV File Handling"
      ]
    },
    {
      "cell_type": "code",
      "execution_count": 150,
      "metadata": {
        "id": "2xxBAa9QdhPX"
      },
      "outputs": [],
      "source": [
        "import csv\n",
        "\n",
        "data = [[\"Name\", \"Age\", \"City\"], [\"Alice\", 25, \"New York\"], [\"Bob\", 30, \"London\"]]\n",
        "with open(\"data.csv\", \"w\", newline=\"\") as file:\n",
        "    writer = csv.writer(file)\n",
        "    writer.writerows(data)"
      ]
    },
    {
      "cell_type": "markdown",
      "metadata": {
        "id": "KZaUiCiBdlIj"
      },
      "source": [
        "## 8. Handling File Errors and Exceptions\n",
        "### Catching File Handling Errors"
      ]
    },
    {
      "cell_type": "code",
      "execution_count": 151,
      "metadata": {
        "colab": {
          "base_uri": "https://localhost:8080/"
        },
        "id": "GTCgOGKudl3_",
        "outputId": "9d0f7e2d-8243-4c3d-ea5f-ba033bdfa0e1"
      },
      "outputs": [
        {
          "name": "stdout",
          "output_type": "stream",
          "text": [
            "File not found!\n"
          ]
        }
      ],
      "source": [
        "try:\n",
        "    with open(\"non_existent.txt\", \"r\") as file:\n",
        "        content = file.read()\n",
        "except FileNotFoundError:\n",
        "    print(\"File not found!\")"
      ]
    },
    {
      "cell_type": "markdown",
      "metadata": {
        "id": "Sf2s3zB7dpFC"
      },
      "source": [
        "## 9. Exercises\n",
        "### Exercise 1: Read and Write Text Files\n",
        "- Create a text file and write multiple lines.\n",
        "- Read the file and display its content."
      ]
    },
    {
      "cell_type": "code",
      "execution_count": 151,
      "metadata": {
        "id": "zT78qoyBdqSk"
      },
      "outputs": [],
      "source": []
    },
    {
      "cell_type": "markdown",
      "metadata": {
        "id": "bR2Re6O3drka"
      },
      "source": [
        "### Exercise 2: Process a Large File\n",
        "- Read a large file line by line.\n",
        "- Count occurrences of a specific word in the file."
      ]
    },
    {
      "cell_type": "code",
      "execution_count": 151,
      "metadata": {
        "id": "a4QfjLFldsUa"
      },
      "outputs": [],
      "source": []
    },
    {
      "cell_type": "code",
      "execution_count": null,
      "metadata": {
        "id": "4L23EjYjgYHq"
      },
      "outputs": [],
      "source": []
    },
    {
      "cell_type": "markdown",
      "metadata": {
        "id": "ep46UNYodt8E"
      },
      "source": [
        "### Exercise 3: Work with JSON\n",
        "- Create a dictionary, convert it to JSON, and save it.\n",
        "- Load the JSON file and print its contents."
      ]
    },
    {
      "cell_type": "code",
      "execution_count": 151,
      "metadata": {
        "id": "b6kyYhV7dvBO"
      },
      "outputs": [],
      "source": []
    },
    {
      "cell_type": "markdown",
      "metadata": {
        "id": "RN7lkes_dwQq"
      },
      "source": [
        "### Exercise 4: Handle CSV Files\n",
        "- Create a CSV file with tabular data.\n",
        "- Read the CSV file into a Pandas DataFrame."
      ]
    },
    {
      "cell_type": "code",
      "execution_count": 151,
      "metadata": {
        "id": "-bC-Vl24dxC4"
      },
      "outputs": [],
      "source": []
    },
    {
      "cell_type": "markdown",
      "metadata": {
        "id": "UqhBv9HYcq00"
      },
      "source": [
        "\n",
        "\n",
        "\n",
        "### Exercise 5: Exception Handling in File I/O\n",
        "- Implement error handling for missing files.\n",
        "- Handle permission errors when accessing a file."
      ]
    },
    {
      "cell_type": "code",
      "execution_count": 151,
      "metadata": {
        "id": "ZgURPCzXcmjt"
      },
      "outputs": [],
      "source": []
    },
    {
      "cell_type": "markdown",
      "metadata": {
        "id": "i8YaAHcla2ES"
      },
      "source": [
        "# Summary: Python Comprehensive Exercise\n",
        "\n",
        "## Problem Statement\n",
        "You are given a dataset containing customer transactions, and your task is to:\n",
        "- **Read and preprocess the dataset using Pandas**\n",
        "- **Perform text extraction using regular expressions**\n",
        "- **Implement an algorithm to detect fraud**\n",
        "- **Store the results into a structured file**\n",
        "\n",
        "## Steps to Solve the Problem\n",
        "\n",
        "### 1. Load Data from a File\n",
        "The dataset is stored in a CSV file named `transactions.csv`. It contains the following columns:\n",
        "- `transaction_id`: Unique transaction identifier\n",
        "- `customer_name`: Full name of the customer\n",
        "- `email`: Email address\n",
        "- `transaction_amount`: Amount spent\n",
        "- `transaction_date`: Date of transaction\n",
        "- `description`: Transaction details"
      ]
    },
    {
      "cell_type": "code",
      "execution_count": 154,
      "metadata": {
        "colab": {
          "base_uri": "https://localhost:8080/"
        },
        "id": "6juDxXgTa65J",
        "outputId": "883c03aa-2663-4fbf-d643-3df1f2523cb2"
      },
      "outputs": [
        {
          "name": "stdout",
          "output_type": "stream",
          "text": [
            "   transaction_id  customer_name                email  transaction_amount  \\\n",
            "0            1001  Alice Johnson      alice@gmail.com                 200   \n",
            "1            1002      Bob Smith        bob@yahoo.com                7500   \n",
            "2            1003    Charlie Lee  charlie@hotmail.com                  50   \n",
            "3            1004    David Brown    david@company.com                3000   \n",
            "4            1005    Emma Wilson    emma@business.org                 600   \n",
            "\n",
            "  transaction_date                   description  \n",
            "0       2024-02-01  Purchase of electronic items  \n",
            "1       2024-02-02     Refund for previous order  \n",
            "2       2024-02-03             Coffee and snacks  \n",
            "3       2024-02-04      Large furniture purchase  \n",
            "4       2024-02-05            Chargeback dispute  \n"
          ]
        }
      ],
      "source": [
        "import pandas as pd\n",
        "\n",
        "# Load the dataset\n",
        "df = pd.read_csv(\"/content/transactions.csv\")\n",
        "print(df.head())"
      ]
    },
    {
      "cell_type": "markdown",
      "metadata": {
        "id": "cvxGhHGwa86J"
      },
      "source": [
        "### 2. Extract Information Using Regular Expressions\n",
        "We will extract:\n",
        "- Domains from email addresses\n",
        "- Keywords from the transaction description"
      ]
    },
    {
      "cell_type": "code",
      "execution_count": 155,
      "metadata": {
        "id": "0glp3yaBa_3l"
      },
      "outputs": [],
      "source": [
        "import re"
      ]
    },
    {
      "cell_type": "code",
      "execution_count": 156,
      "metadata": {
        "colab": {
          "base_uri": "https://localhost:8080/"
        },
        "id": "nJ8Zv09nbF1B",
        "outputId": "f9badff8-4e9b-445a-b944-0cedd8c4e76e"
      },
      "outputs": [
        {
          "name": "stdout",
          "output_type": "stream",
          "text": [
            "   transaction_id  customer_name                email  transaction_amount  \\\n",
            "0            1001  Alice Johnson      alice@gmail.com                 200   \n",
            "1            1002      Bob Smith        bob@yahoo.com                7500   \n",
            "2            1003    Charlie Lee  charlie@hotmail.com                  50   \n",
            "3            1004    David Brown    david@company.com                3000   \n",
            "4            1005    Emma Wilson    emma@business.org                 600   \n",
            "\n",
            "  transaction_date                   description  email_domain  \\\n",
            "0       2024-02-01  Purchase of electronic items     gmail.com   \n",
            "1       2024-02-02     Refund for previous order     yahoo.com   \n",
            "2       2024-02-03             Coffee and snacks   hotmail.com   \n",
            "3       2024-02-04      Large furniture purchase   company.com   \n",
            "4       2024-02-05            Chargeback dispute  business.org   \n",
            "\n",
            "                            keywords  \n",
            "0  [Purchase, of, electronic, items]  \n",
            "1     [Refund, for, previous, order]  \n",
            "2              [Coffee, and, snacks]  \n",
            "3       [Large, furniture, purchase]  \n",
            "4              [Chargeback, dispute]  \n"
          ]
        }
      ],
      "source": [
        "# Extract email domains\n",
        "df[\"email_domain\"] = df[\"email\"].apply(lambda x: re.search(r\"@(.+)\", x).group(1))\n",
        "\n",
        "# Extract keywords from transaction descriptions\n",
        "df[\"keywords\"] = df[\"description\"].apply(lambda x: re.findall(r\"\\b[A-Za-z]+\\b\", x))\n",
        "print(df.head())"
      ]
    },
    {
      "cell_type": "markdown",
      "metadata": {
        "id": "TtmpY333a_Z7"
      },
      "source": [
        "### 3. Implement Fraud Detection Algorithm\n",
        "A transaction is considered **suspicious** if:\n",
        "- The amount exceeds $5000\n",
        "- The description contains the word \"refund\" or \"chargeback\""
      ]
    },
    {
      "cell_type": "code",
      "execution_count": 157,
      "metadata": {
        "colab": {
          "base_uri": "https://localhost:8080/"
        },
        "id": "xQw3o50RbKHy",
        "outputId": "8b8659e6-0e7f-41c9-c391-a8b3c1701ee2"
      },
      "outputs": [
        {
          "name": "stdout",
          "output_type": "stream",
          "text": [
            "   transaction_id customer_name          email  transaction_amount  \\\n",
            "1            1002     Bob Smith  bob@yahoo.com                7500   \n",
            "\n",
            "  transaction_date                description email_domain  \\\n",
            "1       2024-02-02  Refund for previous order    yahoo.com   \n",
            "\n",
            "                         keywords  fraudulent  \n",
            "1  [Refund, for, previous, order]        True  \n"
          ]
        }
      ],
      "source": [
        "def detect_fraud(row):\n",
        "    if row[\"transaction_amount\"] > 5000:\n",
        "        return True\n",
        "    if any(word in [\"refund\", \"chargeback\"] for word in row[\"keywords\"]):\n",
        "        return True\n",
        "    return False\n",
        "\n",
        "df[\"fraudulent\"] = df.apply(detect_fraud, axis=1)\n",
        "print(df[df[\"fraudulent\"] == True])"
      ]
    },
    {
      "cell_type": "markdown",
      "metadata": {
        "id": "3kpjYWCfbMVB"
      },
      "source": [
        "### 4. Save the Processed Data to a New File"
      ]
    },
    {
      "cell_type": "code",
      "execution_count": 158,
      "metadata": {
        "colab": {
          "base_uri": "https://localhost:8080/"
        },
        "id": "QJ-Q4pj3bN1J",
        "outputId": "6df4183f-7a1a-4888-eef8-27712f5fc1e4"
      },
      "outputs": [
        {
          "name": "stdout",
          "output_type": "stream",
          "text": [
            "Processed data saved successfully.\n"
          ]
        }
      ],
      "source": [
        "# Save the cleaned and analyzed data\n",
        "df.to_csv(\"processed_transactions.csv\", index=False)\n",
        "print(\"Processed data saved successfully.\")"
      ]
    },
    {
      "cell_type": "markdown",
      "metadata": {
        "id": "enD4yYm2aZQV"
      },
      "source": [
        "## Exercises\n",
        "\n",
        "### Exercise 1: Identify Suspicious Email Domains\n",
        "- Find the top 5 most frequent email domains in fraudulent transactions.\n",
        "- Write a function to flag transactions from less common domains.\n",
        "\n",
        "- **Topics:** String manipulation, Pandas DataFrames, Aggregation\n",
        "- **Resources:**\n",
        "  - [Pandas String Methods](https://pandas.pydata.org/docs/user_guide/text.html)\n",
        "  - [Regular Expressions in Python](https://docs.python.org/3/library/re.html)\n",
        "  - [Finding Frequent Elements in Pandas](https://towardsdatascience.com/finding-the-most-frequent-elements-in-a-pandas-dataframe-b29d01fe43cf)\n",
        "\n",
        "### Exercise 2: Regular Expressions for Data Validation\n",
        "- Validate that email addresses in the dataset are correctly formatted.\n",
        "- Identify and extract all numeric values appearing in descriptions.\n",
        "\n",
        "- **Topics:** Regex for validation, extracting numerical data, pattern matching\n",
        "- **Resources:**\n",
        "  - [Python Regular Expressions Official Docs](https://docs.python.org/3/library/re.html)\n",
        "  - [Regex101 - Online Regex Tester](https://regex101.com/) (for testing expressions)\n",
        "  - [Validating Email Addresses with Regex](https://www.geeksforgeeks.org/check-if-email-address-valid-or-not-in-python/)\n",
        "  - [Extracting Numbers from Text in Python](https://www.datacamp.com/tutorial/python-regular-expression-tutorial)\n",
        "\n",
        "### Exercise 3: Optimize the Algorithm\n",
        "- Improve fraud detection by incorporating past customer transaction history.\n",
        "- Implement an efficient way to flag repeated transactions within a short period.\n",
        "\n",
        "- **Topics:** Algorithm optimization, time complexity, transaction analysis\n",
        "- **Resources:**\n",
        "  - [Python Performance Optimization](https://realpython.com/python-performance/)\n",
        "  - [Big-O Notation for Algorithm Complexity](https://www.geeksforgeeks.org/analysis-of-algorithms-big-o-analysis/)\n",
        "  - [Efficient Transaction Processing Techniques](https://www.kaggle.com/learn/data-cleaning)\n",
        "\n",
        "\n",
        "### Exercise 4: File Handling and Reporting\n",
        "- Generate a summary report of fraudulent transactions and save it to a JSON file.\n",
        "- Create a function that reads the JSON report and prints key insights.\n",
        "\n",
        "- **Topics:** File I/O, JSON handling, saving structured reports\n",
        "- **Resources:**\n",
        "  - [Python File Handling](https://realpython.com/read-write-files-python/)\n",
        "  - [Working with JSON in Python](https://realpython.com/python-json/)\n",
        "  - [Generating and Parsing Reports in Pandas](https://towardsdatascience.com/how-to-generate-reports-with-python-and-pandas-166fdfaf0df4)\n",
        "\n",
        "\n",
        "### **Exercise 5: Improve Fraud Detection using Data Patterns**\n",
        "- **Topics:** Fraud detection, anomaly detection, historical analysis\n",
        "- **Resources:**\n",
        "  - [Introduction to Fraud Detection with Python](https://www.kaggle.com/datasets/ntnu-testimon/paysim1)\n",
        "  - [Scikit-learn Outlier Detection Techniques](https://scikit-learn.org/stable/modules/outlier_detection.html)\n",
        "  - [Building a Machine Learning-Based Fraud Detection System](https://towardsdatascience.com/credit-card-fraud-detection-using-machine-learning-726ed4e3b3af)\n",
        "  - [Anomaly Detection in Pandas](https://towardsdatascience.com/anomaly-detection-in-python-part-1-49b65b0522dc)\n",
        "\n",
        "\n",
        "### **Additional General Resources**\n",
        "- **Pandas Official Documentation:** [https://pandas.pydata.org/docs/](https://pandas.pydata.org/docs/)\n",
        "- **Python Regular Expressions:** [https://docs.python.org/3/library/re.html](https://docs.python.org/3/library/re.html)\n",
        "- **Python Algorithms and Data Structures:** [https://www.geeksforgeeks.org/python-data-structures-and-algorithms/](https://www.geeksforgeeks.org/python-data-structures-and-algorithms/)\n",
        "- **File Handling in Python:** [https://realpython.com/read-write-files-python/](https://realpython.com/read-write-files-python/)\n",
        "\n"
      ]
    },
    {
      "cell_type": "code",
      "execution_count": 158,
      "metadata": {
        "id": "nXemD1X-buaR"
      },
      "outputs": [],
      "source": []
    },
    {
      "cell_type": "code",
      "execution_count": 158,
      "metadata": {
        "id": "_pEgOjumbuXi"
      },
      "outputs": [],
      "source": []
    },
    {
      "cell_type": "markdown",
      "metadata": {
        "id": "XOY7PF-WaZMd"
      },
      "source": []
    }
  ],
  "metadata": {
    "colab": {
      "provenance": []
    },
    "kernelspec": {
      "display_name": "Python 3",
      "name": "python3"
    },
    "language_info": {
      "name": "python"
    }
  },
  "nbformat": 4,
  "nbformat_minor": 0
}
